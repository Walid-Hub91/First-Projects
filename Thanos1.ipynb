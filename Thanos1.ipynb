{
 "cells": [
  {
   "cell_type": "code",
   "execution_count": 27,
   "id": "b4d218e5",
   "metadata": {},
   "outputs": [],
   "source": [
    "import os\n",
    "import random"
   ]
  },
  {
   "cell_type": "code",
   "execution_count": 28,
   "id": "3910d820",
   "metadata": {},
   "outputs": [],
   "source": [
    "def show_universe(place):\n",
    "    universe = os.listdir(place)\n",
    "    return universe"
   ]
  },
  {
   "cell_type": "code",
   "execution_count": 37,
   "id": "591f0f62",
   "metadata": {},
   "outputs": [
    {
     "name": "stdout",
     "output_type": "stream",
     "text": [
      "['1.jpeg', '2.jpg', '5.jfif', '8.jfif', '9.jfif']\n"
     ]
    }
   ],
   "source": [
    "universe= show_universe('C:\\\\Users\\\\USER1\\\\Desktop\\\\Thanos Pictures')\n",
    "print(universe)"
   ]
  },
  {
   "cell_type": "code",
   "execution_count": 38,
   "id": "72c299b4",
   "metadata": {},
   "outputs": [],
   "source": [
    "def thanos_snap(universe):\n",
    "    half_universe = int(len(universe)/2)\n",
    "    for i in range(half_universe):\n",
    "        universe = show_universe('C:\\\\Users\\\\USER1\\\\Desktop\\\\Thanos Pictures')\n",
    "        os.remove('C:\\\\Users\\\\USER1\\\\Desktop\\\\Thanos Pictures' + random.choice(universe))\n",
    "    print('perfectly balanced,as all things should be')"
   ]
  },
  {
   "cell_type": "code",
   "execution_count": 45,
   "id": "7d1ed86e",
   "metadata": {},
   "outputs": [],
   "source": [
    "universe = show_universe('C:\\\\Users\\\\USER1\\\\Desktop\\\\Thanos Pictures')"
   ]
  },
  {
   "cell_type": "code",
   "execution_count": 46,
   "id": "926fd1c3",
   "metadata": {},
   "outputs": [
    {
     "name": "stdout",
     "output_type": "stream",
     "text": [
      "2.jpg\n"
     ]
    }
   ],
   "source": [
    "print(random.choice(universe))"
   ]
  },
  {
   "cell_type": "code",
   "execution_count": null,
   "id": "7ada2bac",
   "metadata": {},
   "outputs": [],
   "source": []
  }
 ],
 "metadata": {
  "kernelspec": {
   "display_name": "Python 3 (ipykernel)",
   "language": "python",
   "name": "python3"
  },
  "language_info": {
   "codemirror_mode": {
    "name": "ipython",
    "version": 3
   },
   "file_extension": ".py",
   "mimetype": "text/x-python",
   "name": "python",
   "nbconvert_exporter": "python",
   "pygments_lexer": "ipython3",
   "version": "3.9.7"
  }
 },
 "nbformat": 4,
 "nbformat_minor": 5
}
